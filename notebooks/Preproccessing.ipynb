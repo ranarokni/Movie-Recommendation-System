{
 "cells": [
  {
   "cell_type": "markdown",
   "metadata": {},
   "source": [
    "## Data Preproccessing\n",
    "\n",
    "As data is in several csvs and saved in JSON format, we have to do some preprocessing before anything.\n"
   ]
  },
  {
   "cell_type": "code",
   "execution_count": 113,
   "metadata": {
    "execution": {
     "iopub.execute_input": "2025-08-20T13:43:06.909931Z",
     "iopub.status.busy": "2025-08-20T13:43:06.909581Z",
     "iopub.status.idle": "2025-08-20T13:43:06.915503Z",
     "shell.execute_reply": "2025-08-20T13:43:06.914477Z",
     "shell.execute_reply.started": "2025-08-20T13:43:06.909901Z"
    },
    "trusted": true
   },
   "outputs": [],
   "source": [
    "import numpy as np\n",
    "import pandas as pd\n",
    "import matplotlib as plt\n",
    "from ast import literal_eval\n",
    "from nltk.stem.snowball import SnowballStemmer"
   ]
  },
  {
   "cell_type": "markdown",
   "metadata": {},
   "source": [
    "## Credits"
   ]
  },
  {
   "cell_type": "code",
   "execution_count": 114,
   "metadata": {
    "execution": {
     "iopub.execute_input": "2025-08-20T13:43:08.366205Z",
     "iopub.status.busy": "2025-08-20T13:43:08.365848Z",
     "iopub.status.idle": "2025-08-20T13:43:11.861257Z",
     "shell.execute_reply": "2025-08-20T13:43:11.859646Z",
     "shell.execute_reply.started": "2025-08-20T13:43:08.366181Z"
    },
    "trusted": true
   },
   "outputs": [],
   "source": [
    "credits = pd.read_csv('/kaggle/input/the-movies-dataset/credits.csv')"
   ]
  },
  {
   "cell_type": "code",
   "execution_count": 115,
   "metadata": {
    "execution": {
     "iopub.execute_input": "2025-08-20T13:43:11.863387Z",
     "iopub.status.busy": "2025-08-20T13:43:11.862975Z",
     "iopub.status.idle": "2025-08-20T13:43:11.873488Z",
     "shell.execute_reply": "2025-08-20T13:43:11.872522Z",
     "shell.execute_reply.started": "2025-08-20T13:43:11.863363Z"
    },
    "trusted": true
   },
   "outputs": [
    {
     "data": {
      "text/html": [
       "<div>\n",
       "<style scoped>\n",
       "    .dataframe tbody tr th:only-of-type {\n",
       "        vertical-align: middle;\n",
       "    }\n",
       "\n",
       "    .dataframe tbody tr th {\n",
       "        vertical-align: top;\n",
       "    }\n",
       "\n",
       "    .dataframe thead th {\n",
       "        text-align: right;\n",
       "    }\n",
       "</style>\n",
       "<table border=\"1\" class=\"dataframe\">\n",
       "  <thead>\n",
       "    <tr style=\"text-align: right;\">\n",
       "      <th></th>\n",
       "      <th>cast</th>\n",
       "      <th>crew</th>\n",
       "      <th>id</th>\n",
       "    </tr>\n",
       "  </thead>\n",
       "  <tbody>\n",
       "    <tr>\n",
       "      <th>0</th>\n",
       "      <td>[{'cast_id': 14, 'character': 'Woody (voice)',...</td>\n",
       "      <td>[{'credit_id': '52fe4284c3a36847f8024f49', 'de...</td>\n",
       "      <td>862</td>\n",
       "    </tr>\n",
       "    <tr>\n",
       "      <th>1</th>\n",
       "      <td>[{'cast_id': 1, 'character': 'Alan Parrish', '...</td>\n",
       "      <td>[{'credit_id': '52fe44bfc3a36847f80a7cd1', 'de...</td>\n",
       "      <td>8844</td>\n",
       "    </tr>\n",
       "    <tr>\n",
       "      <th>2</th>\n",
       "      <td>[{'cast_id': 2, 'character': 'Max Goldman', 'c...</td>\n",
       "      <td>[{'credit_id': '52fe466a9251416c75077a89', 'de...</td>\n",
       "      <td>15602</td>\n",
       "    </tr>\n",
       "    <tr>\n",
       "      <th>3</th>\n",
       "      <td>[{'cast_id': 1, 'character': \"Savannah 'Vannah...</td>\n",
       "      <td>[{'credit_id': '52fe44779251416c91011acb', 'de...</td>\n",
       "      <td>31357</td>\n",
       "    </tr>\n",
       "    <tr>\n",
       "      <th>4</th>\n",
       "      <td>[{'cast_id': 1, 'character': 'George Banks', '...</td>\n",
       "      <td>[{'credit_id': '52fe44959251416c75039ed7', 'de...</td>\n",
       "      <td>11862</td>\n",
       "    </tr>\n",
       "  </tbody>\n",
       "</table>\n",
       "</div>"
      ],
      "text/plain": [
       "                                                cast  \\\n",
       "0  [{'cast_id': 14, 'character': 'Woody (voice)',...   \n",
       "1  [{'cast_id': 1, 'character': 'Alan Parrish', '...   \n",
       "2  [{'cast_id': 2, 'character': 'Max Goldman', 'c...   \n",
       "3  [{'cast_id': 1, 'character': \"Savannah 'Vannah...   \n",
       "4  [{'cast_id': 1, 'character': 'George Banks', '...   \n",
       "\n",
       "                                                crew     id  \n",
       "0  [{'credit_id': '52fe4284c3a36847f8024f49', 'de...    862  \n",
       "1  [{'credit_id': '52fe44bfc3a36847f80a7cd1', 'de...   8844  \n",
       "2  [{'credit_id': '52fe466a9251416c75077a89', 'de...  15602  \n",
       "3  [{'credit_id': '52fe44779251416c91011acb', 'de...  31357  \n",
       "4  [{'credit_id': '52fe44959251416c75039ed7', 'de...  11862  "
      ]
     },
     "execution_count": 115,
     "metadata": {},
     "output_type": "execute_result"
    }
   ],
   "source": [
    "credits.head()"
   ]
  },
  {
   "cell_type": "code",
   "execution_count": 116,
   "metadata": {
    "execution": {
     "iopub.execute_input": "2025-08-20T13:43:11.874666Z",
     "iopub.status.busy": "2025-08-20T13:43:11.874375Z",
     "iopub.status.idle": "2025-08-20T13:43:11.918724Z",
     "shell.execute_reply": "2025-08-20T13:43:11.917487Z",
     "shell.execute_reply.started": "2025-08-20T13:43:11.874635Z"
    },
    "trusted": true
   },
   "outputs": [
    {
     "data": {
      "text/plain": [
       "cast    0\n",
       "crew    0\n",
       "id      0\n",
       "dtype: int64"
      ]
     },
     "execution_count": 116,
     "metadata": {},
     "output_type": "execute_result"
    }
   ],
   "source": [
    "credits.isna().sum()"
   ]
  },
  {
   "cell_type": "code",
   "execution_count": 117,
   "metadata": {
    "execution": {
     "iopub.execute_input": "2025-08-20T13:43:11.921357Z",
     "iopub.status.busy": "2025-08-20T13:43:11.920992Z",
     "iopub.status.idle": "2025-08-20T13:43:12.459476Z",
     "shell.execute_reply": "2025-08-20T13:43:12.457548Z",
     "shell.execute_reply.started": "2025-08-20T13:43:11.921334Z"
    },
    "trusted": true
   },
   "outputs": [],
   "source": [
    "credits.drop_duplicates(inplace=True)"
   ]
  },
  {
   "cell_type": "code",
   "execution_count": null,
   "metadata": {
    "execution": {
     "iopub.execute_input": "2025-08-20T13:43:12.461736Z",
     "iopub.status.busy": "2025-08-20T13:43:12.461378Z",
     "iopub.status.idle": "2025-08-20T13:43:12.468540Z",
     "shell.execute_reply": "2025-08-20T13:43:12.467471Z",
     "shell.execute_reply.started": "2025-08-20T13:43:12.461704Z"
    },
    "trusted": true
   },
   "outputs": [],
   "source": [
    "IMPORTANT_JOBS = {\n",
    "    \"Director\": \"director\",\n",
    "    \"Writer\": \"writer\",\n",
    "    \"Screenplay\": \"writer\",   # merge into writer\n",
    "    \"Story\": \"writer\",        # merge into writer\n",
    "    \"Original Music Composer\": \"composer\",\n",
    "    \"Producer\": \"producer\"\n",
    "}\n",
    "\n",
    "def get_important_crew(crew_list):\n",
    "    \"\"\"\n",
    "    crew_list: parsed JSON from 'crew' column (list of dicts)\n",
    "    Returns a dict with the important crew roles (1 per role, if multiple take the first match).\n",
    "    \"\"\"\n",
    "    crew_info = {\"director\": np.nan,\n",
    "                 \"writer\": np.nan,\n",
    "                 \"producer\": np.nan,\n",
    "                 \"composer\": np.nan}\n",
    "    \n",
    "    for member in crew_list:\n",
    "        job = member.get(\"job\")\n",
    "        if job in IMPORTANT_JOBS:\n",
    "            key = IMPORTANT_JOBS[job]\n",
    "            \n",
    "            # only fill if empty (keep the first one)\n",
    "            if pd.isna(crew_info[key]):\n",
    "                crew_info[key] = member.get(\"name\")\n",
    "    \n",
    "    return crew_info"
   ]
  },
  {
   "cell_type": "code",
   "execution_count": null,
   "metadata": {
    "execution": {
     "iopub.execute_input": "2025-08-20T13:43:12.469675Z",
     "iopub.status.busy": "2025-08-20T13:43:12.469435Z",
     "iopub.status.idle": "2025-08-20T13:43:25.095170Z",
     "shell.execute_reply": "2025-08-20T13:43:25.092789Z",
     "shell.execute_reply.started": "2025-08-20T13:43:12.469653Z"
    },
    "trusted": true
   },
   "outputs": [],
   "source": [
    "credits['crew'] = credits['crew'].apply(literal_eval)\n",
    "credits['job'] = credits['crew'].apply(get_important_crew)"
   ]
  },
  {
   "cell_type": "code",
   "execution_count": 120,
   "metadata": {
    "execution": {
     "iopub.execute_input": "2025-08-20T13:43:25.096456Z",
     "iopub.status.busy": "2025-08-20T13:43:25.096082Z",
     "iopub.status.idle": "2025-08-20T13:43:25.134133Z",
     "shell.execute_reply": "2025-08-20T13:43:25.132880Z",
     "shell.execute_reply.started": "2025-08-20T13:43:25.096422Z"
    },
    "trusted": true
   },
   "outputs": [
    {
     "name": "stdout",
     "output_type": "stream",
     "text": [
      "<class 'pandas.core.frame.DataFrame'>\n",
      "Index: 45439 entries, 0 to 45475\n",
      "Data columns (total 4 columns):\n",
      " #   Column  Non-Null Count  Dtype \n",
      "---  ------  --------------  ----- \n",
      " 0   cast    45439 non-null  object\n",
      " 1   crew    45439 non-null  object\n",
      " 2   id      45439 non-null  int64 \n",
      " 3   job     44621 non-null  object\n",
      "dtypes: int64(1), object(3)\n",
      "memory usage: 1.7+ MB\n"
     ]
    }
   ],
   "source": [
    "credits.info()"
   ]
  },
  {
   "cell_type": "code",
   "execution_count": 121,
   "metadata": {
    "execution": {
     "iopub.execute_input": "2025-08-20T13:43:25.135391Z",
     "iopub.status.busy": "2025-08-20T13:43:25.135037Z",
     "iopub.status.idle": "2025-08-20T13:43:41.460203Z",
     "shell.execute_reply": "2025-08-20T13:43:41.458320Z",
     "shell.execute_reply.started": "2025-08-20T13:43:25.135362Z"
    },
    "trusted": true
   },
   "outputs": [],
   "source": [
    "credits['cast'] = credits['cast'].apply(literal_eval)\n",
    "\n",
    "## get only the top 4 cast\n",
    "credits['cast'] = credits['cast'].apply(lambda x: [i['name'] for i in x] if isinstance(x, list) else [])\n",
    "credits['cast'] = credits['cast'].apply(lambda x: x[:4] if len(x) >= 4 else x)"
   ]
  },
  {
   "cell_type": "code",
   "execution_count": 122,
   "metadata": {
    "execution": {
     "iopub.execute_input": "2025-08-20T13:43:41.461994Z",
     "iopub.status.busy": "2025-08-20T13:43:41.461683Z",
     "iopub.status.idle": "2025-08-20T13:43:41.764574Z",
     "shell.execute_reply": "2025-08-20T13:43:41.763297Z",
     "shell.execute_reply.started": "2025-08-20T13:43:41.461969Z"
    },
    "trusted": true
   },
   "outputs": [],
   "source": [
    "credits['cast'] = credits['cast'].apply(\n",
    "    lambda x: [str(i).lower().replace(\" \", \"\") for i in x] if isinstance(x, list) else []\n",
    ")\n",
    "\n",
    "credits['job'] = credits['job'].apply(\n",
    "    lambda x: [str(i).lower().replace(\" \", \"\") for i in x] if isinstance(x, list) else []\n",
    ")"
   ]
  },
  {
   "cell_type": "code",
   "execution_count": 123,
   "metadata": {
    "execution": {
     "iopub.execute_input": "2025-08-20T13:43:41.767625Z",
     "iopub.status.busy": "2025-08-20T13:43:41.767332Z",
     "iopub.status.idle": "2025-08-20T13:43:41.803304Z",
     "shell.execute_reply": "2025-08-20T13:43:41.802150Z",
     "shell.execute_reply.started": "2025-08-20T13:43:41.767602Z"
    },
    "trusted": true
   },
   "outputs": [
    {
     "name": "stdout",
     "output_type": "stream",
     "text": [
      "<class 'pandas.core.frame.DataFrame'>\n",
      "Index: 45439 entries, 0 to 45475\n",
      "Data columns (total 4 columns):\n",
      " #   Column  Non-Null Count  Dtype \n",
      "---  ------  --------------  ----- \n",
      " 0   cast    45439 non-null  object\n",
      " 1   crew    45439 non-null  object\n",
      " 2   id      45439 non-null  int64 \n",
      " 3   job     45439 non-null  object\n",
      "dtypes: int64(1), object(3)\n",
      "memory usage: 1.7+ MB\n"
     ]
    }
   ],
   "source": [
    "credits.info()"
   ]
  },
  {
   "cell_type": "code",
   "execution_count": 124,
   "metadata": {
    "execution": {
     "iopub.execute_input": "2025-08-20T13:43:41.804387Z",
     "iopub.status.busy": "2025-08-20T13:43:41.804110Z",
     "iopub.status.idle": "2025-08-20T13:43:41.856758Z",
     "shell.execute_reply": "2025-08-20T13:43:41.855639Z",
     "shell.execute_reply.started": "2025-08-20T13:43:41.804361Z"
    },
    "trusted": true
   },
   "outputs": [
    {
     "data": {
      "text/html": [
       "<div>\n",
       "<style scoped>\n",
       "    .dataframe tbody tr th:only-of-type {\n",
       "        vertical-align: middle;\n",
       "    }\n",
       "\n",
       "    .dataframe tbody tr th {\n",
       "        vertical-align: top;\n",
       "    }\n",
       "\n",
       "    .dataframe thead th {\n",
       "        text-align: right;\n",
       "    }\n",
       "</style>\n",
       "<table border=\"1\" class=\"dataframe\">\n",
       "  <thead>\n",
       "    <tr style=\"text-align: right;\">\n",
       "      <th></th>\n",
       "      <th>cast</th>\n",
       "      <th>crew</th>\n",
       "      <th>id</th>\n",
       "      <th>job</th>\n",
       "    </tr>\n",
       "  </thead>\n",
       "  <tbody>\n",
       "    <tr>\n",
       "      <th>0</th>\n",
       "      <td>[tomhanks, timallen, donrickles, jimvarney]</td>\n",
       "      <td>[{'credit_id': '52fe4284c3a36847f8024f49', 'de...</td>\n",
       "      <td>862</td>\n",
       "      <td>[johnlasseter, josswhedon, andrewstanton, joel...</td>\n",
       "    </tr>\n",
       "    <tr>\n",
       "      <th>1</th>\n",
       "      <td>[robinwilliams, jonathanhyde, kirstendunst, br...</td>\n",
       "      <td>[{'credit_id': '52fe44bfc3a36847f80a7cd1', 'de...</td>\n",
       "      <td>8844</td>\n",
       "      <td>[jonathanhensleigh, jameshorner, joejohnston, ...</td>\n",
       "    </tr>\n",
       "    <tr>\n",
       "      <th>2</th>\n",
       "      <td>[waltermatthau, jacklemmon, ann-margret, sophi...</td>\n",
       "      <td>[{'credit_id': '52fe466a9251416c75077a89', 'de...</td>\n",
       "      <td>15602</td>\n",
       "      <td>[howarddeutch, markstevenjohnson]</td>\n",
       "    </tr>\n",
       "    <tr>\n",
       "      <th>3</th>\n",
       "      <td>[whitneyhouston, angelabassett, lorettadevine,...</td>\n",
       "      <td>[{'credit_id': '52fe44779251416c91011acb', 'de...</td>\n",
       "      <td>31357</td>\n",
       "      <td>[forestwhitaker, ronaldbass, ezraswerdlow, deb...</td>\n",
       "    </tr>\n",
       "    <tr>\n",
       "      <th>4</th>\n",
       "      <td>[stevemartin, dianekeaton, martinshort, kimber...</td>\n",
       "      <td>[{'credit_id': '52fe44959251416c75039ed7', 'de...</td>\n",
       "      <td>11862</td>\n",
       "      <td>[alansilvestri, nancymeyers, alberthackett, ch...</td>\n",
       "    </tr>\n",
       "  </tbody>\n",
       "</table>\n",
       "</div>"
      ],
      "text/plain": [
       "                                                cast  \\\n",
       "0        [tomhanks, timallen, donrickles, jimvarney]   \n",
       "1  [robinwilliams, jonathanhyde, kirstendunst, br...   \n",
       "2  [waltermatthau, jacklemmon, ann-margret, sophi...   \n",
       "3  [whitneyhouston, angelabassett, lorettadevine,...   \n",
       "4  [stevemartin, dianekeaton, martinshort, kimber...   \n",
       "\n",
       "                                                crew     id  \\\n",
       "0  [{'credit_id': '52fe4284c3a36847f8024f49', 'de...    862   \n",
       "1  [{'credit_id': '52fe44bfc3a36847f80a7cd1', 'de...   8844   \n",
       "2  [{'credit_id': '52fe466a9251416c75077a89', 'de...  15602   \n",
       "3  [{'credit_id': '52fe44779251416c91011acb', 'de...  31357   \n",
       "4  [{'credit_id': '52fe44959251416c75039ed7', 'de...  11862   \n",
       "\n",
       "                                                 job  \n",
       "0  [johnlasseter, josswhedon, andrewstanton, joel...  \n",
       "1  [jonathanhensleigh, jameshorner, joejohnston, ...  \n",
       "2                  [howarddeutch, markstevenjohnson]  \n",
       "3  [forestwhitaker, ronaldbass, ezraswerdlow, deb...  \n",
       "4  [alansilvestri, nancymeyers, alberthackett, ch...  "
      ]
     },
     "execution_count": 124,
     "metadata": {},
     "output_type": "execute_result"
    }
   ],
   "source": [
    "credits.head()"
   ]
  },
  {
   "cell_type": "code",
   "execution_count": 125,
   "metadata": {
    "execution": {
     "iopub.execute_input": "2025-08-20T13:43:41.858016Z",
     "iopub.status.busy": "2025-08-20T13:43:41.857746Z",
     "iopub.status.idle": "2025-08-20T13:43:41.871043Z",
     "shell.execute_reply": "2025-08-20T13:43:41.869790Z",
     "shell.execute_reply.started": "2025-08-20T13:43:41.857990Z"
    },
    "trusted": true
   },
   "outputs": [],
   "source": [
    "newCredits = credits.drop([\"crew\"], axis=1)"
   ]
  },
  {
   "cell_type": "code",
   "execution_count": 126,
   "metadata": {
    "execution": {
     "iopub.execute_input": "2025-08-20T13:43:41.872530Z",
     "iopub.status.busy": "2025-08-20T13:43:41.872259Z",
     "iopub.status.idle": "2025-08-20T13:43:42.127233Z",
     "shell.execute_reply": "2025-08-20T13:43:42.126183Z",
     "shell.execute_reply.started": "2025-08-20T13:43:41.872502Z"
    },
    "trusted": true
   },
   "outputs": [],
   "source": [
    "newCredits.to_csv('NewCredits.csv', index=False)"
   ]
  },
  {
   "cell_type": "markdown",
   "metadata": {},
   "source": [
    "## Keywords"
   ]
  },
  {
   "cell_type": "code",
   "execution_count": 127,
   "metadata": {
    "execution": {
     "iopub.execute_input": "2025-08-20T13:43:42.128231Z",
     "iopub.status.busy": "2025-08-20T13:43:42.127987Z",
     "iopub.status.idle": "2025-08-20T13:43:42.228402Z",
     "shell.execute_reply": "2025-08-20T13:43:42.227341Z",
     "shell.execute_reply.started": "2025-08-20T13:43:42.128211Z"
    },
    "trusted": true
   },
   "outputs": [
    {
     "data": {
      "text/html": [
       "<div>\n",
       "<style scoped>\n",
       "    .dataframe tbody tr th:only-of-type {\n",
       "        vertical-align: middle;\n",
       "    }\n",
       "\n",
       "    .dataframe tbody tr th {\n",
       "        vertical-align: top;\n",
       "    }\n",
       "\n",
       "    .dataframe thead th {\n",
       "        text-align: right;\n",
       "    }\n",
       "</style>\n",
       "<table border=\"1\" class=\"dataframe\">\n",
       "  <thead>\n",
       "    <tr style=\"text-align: right;\">\n",
       "      <th></th>\n",
       "      <th>id</th>\n",
       "      <th>keywords</th>\n",
       "    </tr>\n",
       "  </thead>\n",
       "  <tbody>\n",
       "    <tr>\n",
       "      <th>0</th>\n",
       "      <td>862</td>\n",
       "      <td>[{'id': 931, 'name': 'jealousy'}, {'id': 4290,...</td>\n",
       "    </tr>\n",
       "    <tr>\n",
       "      <th>1</th>\n",
       "      <td>8844</td>\n",
       "      <td>[{'id': 10090, 'name': 'board game'}, {'id': 1...</td>\n",
       "    </tr>\n",
       "    <tr>\n",
       "      <th>2</th>\n",
       "      <td>15602</td>\n",
       "      <td>[{'id': 1495, 'name': 'fishing'}, {'id': 12392...</td>\n",
       "    </tr>\n",
       "    <tr>\n",
       "      <th>3</th>\n",
       "      <td>31357</td>\n",
       "      <td>[{'id': 818, 'name': 'based on novel'}, {'id':...</td>\n",
       "    </tr>\n",
       "    <tr>\n",
       "      <th>4</th>\n",
       "      <td>11862</td>\n",
       "      <td>[{'id': 1009, 'name': 'baby'}, {'id': 1599, 'n...</td>\n",
       "    </tr>\n",
       "  </tbody>\n",
       "</table>\n",
       "</div>"
      ],
      "text/plain": [
       "      id                                           keywords\n",
       "0    862  [{'id': 931, 'name': 'jealousy'}, {'id': 4290,...\n",
       "1   8844  [{'id': 10090, 'name': 'board game'}, {'id': 1...\n",
       "2  15602  [{'id': 1495, 'name': 'fishing'}, {'id': 12392...\n",
       "3  31357  [{'id': 818, 'name': 'based on novel'}, {'id':...\n",
       "4  11862  [{'id': 1009, 'name': 'baby'}, {'id': 1599, 'n..."
      ]
     },
     "execution_count": 127,
     "metadata": {},
     "output_type": "execute_result"
    }
   ],
   "source": [
    "keywords = pd.read_csv('/kaggle/input/the-movies-dataset/keywords.csv')\n",
    "keywords.head()"
   ]
  },
  {
   "cell_type": "code",
   "execution_count": 128,
   "metadata": {
    "execution": {
     "iopub.execute_input": "2025-08-20T13:43:42.229541Z",
     "iopub.status.busy": "2025-08-20T13:43:42.229275Z",
     "iopub.status.idle": "2025-08-20T13:43:42.242671Z",
     "shell.execute_reply": "2025-08-20T13:43:42.241553Z",
     "shell.execute_reply.started": "2025-08-20T13:43:42.229518Z"
    },
    "trusted": true
   },
   "outputs": [
    {
     "data": {
      "text/plain": [
       "id          0\n",
       "keywords    0\n",
       "dtype: int64"
      ]
     },
     "execution_count": 128,
     "metadata": {},
     "output_type": "execute_result"
    }
   ],
   "source": [
    "keywords.isna().sum()"
   ]
  },
  {
   "cell_type": "code",
   "execution_count": 129,
   "metadata": {
    "execution": {
     "iopub.execute_input": "2025-08-20T13:43:42.243681Z",
     "iopub.status.busy": "2025-08-20T13:43:42.243488Z",
     "iopub.status.idle": "2025-08-20T13:43:42.301080Z",
     "shell.execute_reply": "2025-08-20T13:43:42.300265Z",
     "shell.execute_reply.started": "2025-08-20T13:43:42.243667Z"
    },
    "trusted": true
   },
   "outputs": [],
   "source": [
    "keywords.drop_duplicates(inplace=True)"
   ]
  },
  {
   "cell_type": "code",
   "execution_count": 130,
   "metadata": {
    "execution": {
     "iopub.execute_input": "2025-08-20T13:43:42.302815Z",
     "iopub.status.busy": "2025-08-20T13:43:42.302533Z",
     "iopub.status.idle": "2025-08-20T13:43:44.023319Z",
     "shell.execute_reply": "2025-08-20T13:43:44.021402Z",
     "shell.execute_reply.started": "2025-08-20T13:43:42.302785Z"
    },
    "trusted": true
   },
   "outputs": [],
   "source": [
    "keywords['keywords'] = keywords['keywords'].apply(literal_eval)"
   ]
  },
  {
   "cell_type": "code",
   "execution_count": 131,
   "metadata": {
    "execution": {
     "iopub.execute_input": "2025-08-20T13:43:44.024979Z",
     "iopub.status.busy": "2025-08-20T13:43:44.024698Z",
     "iopub.status.idle": "2025-08-20T13:43:44.125687Z",
     "shell.execute_reply": "2025-08-20T13:43:44.124006Z",
     "shell.execute_reply.started": "2025-08-20T13:43:44.024953Z"
    },
    "trusted": true
   },
   "outputs": [],
   "source": [
    "keywords['keywords'] = keywords['keywords'].apply(lambda x: [i['name'] for i in x] if isinstance(x, list) else [])"
   ]
  },
  {
   "cell_type": "code",
   "execution_count": 132,
   "metadata": {
    "execution": {
     "iopub.execute_input": "2025-08-20T13:43:44.129847Z",
     "iopub.status.busy": "2025-08-20T13:43:44.129501Z",
     "iopub.status.idle": "2025-08-20T13:43:44.142422Z",
     "shell.execute_reply": "2025-08-20T13:43:44.141025Z",
     "shell.execute_reply.started": "2025-08-20T13:43:44.129819Z"
    },
    "trusted": true
   },
   "outputs": [
    {
     "data": {
      "text/html": [
       "<div>\n",
       "<style scoped>\n",
       "    .dataframe tbody tr th:only-of-type {\n",
       "        vertical-align: middle;\n",
       "    }\n",
       "\n",
       "    .dataframe tbody tr th {\n",
       "        vertical-align: top;\n",
       "    }\n",
       "\n",
       "    .dataframe thead th {\n",
       "        text-align: right;\n",
       "    }\n",
       "</style>\n",
       "<table border=\"1\" class=\"dataframe\">\n",
       "  <thead>\n",
       "    <tr style=\"text-align: right;\">\n",
       "      <th></th>\n",
       "      <th>id</th>\n",
       "      <th>keywords</th>\n",
       "    </tr>\n",
       "  </thead>\n",
       "  <tbody>\n",
       "    <tr>\n",
       "      <th>0</th>\n",
       "      <td>862</td>\n",
       "      <td>[jealousy, toy, boy, friendship, friends, riva...</td>\n",
       "    </tr>\n",
       "    <tr>\n",
       "      <th>1</th>\n",
       "      <td>8844</td>\n",
       "      <td>[board game, disappearance, based on children'...</td>\n",
       "    </tr>\n",
       "    <tr>\n",
       "      <th>2</th>\n",
       "      <td>15602</td>\n",
       "      <td>[fishing, best friend, duringcreditsstinger, o...</td>\n",
       "    </tr>\n",
       "    <tr>\n",
       "      <th>3</th>\n",
       "      <td>31357</td>\n",
       "      <td>[based on novel, interracial relationship, sin...</td>\n",
       "    </tr>\n",
       "    <tr>\n",
       "      <th>4</th>\n",
       "      <td>11862</td>\n",
       "      <td>[baby, midlife crisis, confidence, aging, daug...</td>\n",
       "    </tr>\n",
       "  </tbody>\n",
       "</table>\n",
       "</div>"
      ],
      "text/plain": [
       "      id                                           keywords\n",
       "0    862  [jealousy, toy, boy, friendship, friends, riva...\n",
       "1   8844  [board game, disappearance, based on children'...\n",
       "2  15602  [fishing, best friend, duringcreditsstinger, o...\n",
       "3  31357  [based on novel, interracial relationship, sin...\n",
       "4  11862  [baby, midlife crisis, confidence, aging, daug..."
      ]
     },
     "execution_count": 132,
     "metadata": {},
     "output_type": "execute_result"
    }
   ],
   "source": [
    "keywords.head()"
   ]
  },
  {
   "cell_type": "code",
   "execution_count": 133,
   "metadata": {
    "execution": {
     "iopub.execute_input": "2025-08-20T13:43:44.143901Z",
     "iopub.status.busy": "2025-08-20T13:43:44.143519Z",
     "iopub.status.idle": "2025-08-20T13:43:52.745492Z",
     "shell.execute_reply": "2025-08-20T13:43:52.744541Z",
     "shell.execute_reply.started": "2025-08-20T13:43:44.143865Z"
    },
    "trusted": true
   },
   "outputs": [],
   "source": [
    "s = keywords.apply(lambda x: pd.Series(x['keywords']),axis=1).stack().reset_index(level=1, drop=True)\n",
    "s.name = 'keyword'"
   ]
  },
  {
   "cell_type": "code",
   "execution_count": 134,
   "metadata": {
    "execution": {
     "iopub.execute_input": "2025-08-20T13:43:52.746670Z",
     "iopub.status.busy": "2025-08-20T13:43:52.746376Z",
     "iopub.status.idle": "2025-08-20T13:43:52.798232Z",
     "shell.execute_reply": "2025-08-20T13:43:52.796886Z",
     "shell.execute_reply.started": "2025-08-20T13:43:52.746644Z"
    },
    "trusted": true
   },
   "outputs": [
    {
     "data": {
      "text/plain": [
       "keyword\n",
       "woman director      3039\n",
       "independent film    1914\n",
       "murder              1285\n",
       "based on novel       822\n",
       "musical              726\n",
       "Name: count, dtype: int64"
      ]
     },
     "execution_count": 134,
     "metadata": {},
     "output_type": "execute_result"
    }
   ],
   "source": [
    "s = s.value_counts()\n",
    "s[:5]"
   ]
  },
  {
   "cell_type": "code",
   "execution_count": 135,
   "metadata": {
    "execution": {
     "iopub.execute_input": "2025-08-20T13:43:52.799786Z",
     "iopub.status.busy": "2025-08-20T13:43:52.799411Z",
     "iopub.status.idle": "2025-08-20T13:43:52.826663Z",
     "shell.execute_reply": "2025-08-20T13:43:52.825280Z",
     "shell.execute_reply.started": "2025-08-20T13:43:52.799751Z"
    },
    "trusted": true
   },
   "outputs": [],
   "source": [
    "s = s[s > 1]"
   ]
  },
  {
   "cell_type": "code",
   "execution_count": 136,
   "metadata": {
    "execution": {
     "iopub.execute_input": "2025-08-20T13:43:52.827753Z",
     "iopub.status.busy": "2025-08-20T13:43:52.827510Z",
     "iopub.status.idle": "2025-08-20T13:43:52.864599Z",
     "shell.execute_reply": "2025-08-20T13:43:52.863466Z",
     "shell.execute_reply.started": "2025-08-20T13:43:52.827734Z"
    },
    "trusted": true
   },
   "outputs": [
    {
     "data": {
      "text/plain": [
       "'dog'"
      ]
     },
     "execution_count": 136,
     "metadata": {},
     "output_type": "execute_result"
    }
   ],
   "source": [
    "stemmer = SnowballStemmer('english')\n",
    "stemmer.stem('dogs')"
   ]
  },
  {
   "cell_type": "code",
   "execution_count": 137,
   "metadata": {
    "execution": {
     "iopub.execute_input": "2025-08-20T13:43:52.866779Z",
     "iopub.status.busy": "2025-08-20T13:43:52.866375Z",
     "iopub.status.idle": "2025-08-20T13:43:52.902696Z",
     "shell.execute_reply": "2025-08-20T13:43:52.900774Z",
     "shell.execute_reply.started": "2025-08-20T13:43:52.866749Z"
    },
    "trusted": true
   },
   "outputs": [],
   "source": [
    "def filter_keywords(x):\n",
    "    words = []\n",
    "    for i in x:\n",
    "        if i in s:\n",
    "            words.append(i)\n",
    "    return words"
   ]
  },
  {
   "cell_type": "code",
   "execution_count": 138,
   "metadata": {
    "execution": {
     "iopub.execute_input": "2025-08-20T13:43:52.904757Z",
     "iopub.status.busy": "2025-08-20T13:43:52.904382Z",
     "iopub.status.idle": "2025-08-20T13:43:54.743808Z",
     "shell.execute_reply": "2025-08-20T13:43:54.743046Z",
     "shell.execute_reply.started": "2025-08-20T13:43:52.904725Z"
    },
    "trusted": true
   },
   "outputs": [],
   "source": [
    "keywords['keywords'] = keywords['keywords'].apply(filter_keywords)\n",
    "keywords['keywords'] = keywords['keywords'].apply(lambda x: [stemmer.stem(i) for i in x])\n",
    "keywords['keywords'] = keywords['keywords'].apply(lambda x: [str.lower(i.replace(\" \", \"\")) for i in x])"
   ]
  },
  {
   "cell_type": "code",
   "execution_count": 139,
   "metadata": {
    "execution": {
     "iopub.execute_input": "2025-08-20T13:43:54.744778Z",
     "iopub.status.busy": "2025-08-20T13:43:54.744592Z",
     "iopub.status.idle": "2025-08-20T13:43:54.765044Z",
     "shell.execute_reply": "2025-08-20T13:43:54.764205Z",
     "shell.execute_reply.started": "2025-08-20T13:43:54.744763Z"
    },
    "trusted": true
   },
   "outputs": [
    {
     "name": "stdout",
     "output_type": "stream",
     "text": [
      "<class 'pandas.core.frame.DataFrame'>\n",
      "Index: 45432 entries, 0 to 46418\n",
      "Data columns (total 2 columns):\n",
      " #   Column    Non-Null Count  Dtype \n",
      "---  ------    --------------  ----- \n",
      " 0   id        45432 non-null  int64 \n",
      " 1   keywords  45432 non-null  object\n",
      "dtypes: int64(1), object(1)\n",
      "memory usage: 2.0+ MB\n"
     ]
    }
   ],
   "source": [
    "keywords.info()"
   ]
  },
  {
   "cell_type": "code",
   "execution_count": 140,
   "metadata": {
    "execution": {
     "iopub.execute_input": "2025-08-20T13:43:54.766215Z",
     "iopub.status.busy": "2025-08-20T13:43:54.765928Z",
     "iopub.status.idle": "2025-08-20T13:43:54.903169Z",
     "shell.execute_reply": "2025-08-20T13:43:54.901998Z",
     "shell.execute_reply.started": "2025-08-20T13:43:54.766192Z"
    },
    "trusted": true
   },
   "outputs": [],
   "source": [
    "keywords.to_csv('NewKeywords.csv', index=False)"
   ]
  },
  {
   "cell_type": "markdown",
   "metadata": {},
   "source": [
    "## Movies Dataset"
   ]
  },
  {
   "cell_type": "code",
   "execution_count": 169,
   "metadata": {
    "execution": {
     "iopub.execute_input": "2025-08-20T13:48:37.769069Z",
     "iopub.status.busy": "2025-08-20T13:48:37.768783Z",
     "iopub.status.idle": "2025-08-20T13:48:38.432489Z",
     "shell.execute_reply": "2025-08-20T13:48:38.431380Z",
     "shell.execute_reply.started": "2025-08-20T13:48:37.769049Z"
    },
    "trusted": true
   },
   "outputs": [
    {
     "name": "stderr",
     "output_type": "stream",
     "text": [
      "/tmp/ipykernel_103/2999627605.py:1: DtypeWarning: Columns (10) have mixed types. Specify dtype option on import or set low_memory=False.\n",
      "  movies = pd.read_csv('/kaggle/input/the-movies-dataset/movies_metadata.csv')\n"
     ]
    },
    {
     "data": {
      "text/html": [
       "<div>\n",
       "<style scoped>\n",
       "    .dataframe tbody tr th:only-of-type {\n",
       "        vertical-align: middle;\n",
       "    }\n",
       "\n",
       "    .dataframe tbody tr th {\n",
       "        vertical-align: top;\n",
       "    }\n",
       "\n",
       "    .dataframe thead th {\n",
       "        text-align: right;\n",
       "    }\n",
       "</style>\n",
       "<table border=\"1\" class=\"dataframe\">\n",
       "  <thead>\n",
       "    <tr style=\"text-align: right;\">\n",
       "      <th></th>\n",
       "      <th>adult</th>\n",
       "      <th>belongs_to_collection</th>\n",
       "      <th>budget</th>\n",
       "      <th>genres</th>\n",
       "      <th>homepage</th>\n",
       "      <th>id</th>\n",
       "      <th>imdb_id</th>\n",
       "      <th>original_language</th>\n",
       "      <th>original_title</th>\n",
       "      <th>overview</th>\n",
       "      <th>...</th>\n",
       "      <th>release_date</th>\n",
       "      <th>revenue</th>\n",
       "      <th>runtime</th>\n",
       "      <th>spoken_languages</th>\n",
       "      <th>status</th>\n",
       "      <th>tagline</th>\n",
       "      <th>title</th>\n",
       "      <th>video</th>\n",
       "      <th>vote_average</th>\n",
       "      <th>vote_count</th>\n",
       "    </tr>\n",
       "  </thead>\n",
       "  <tbody>\n",
       "    <tr>\n",
       "      <th>0</th>\n",
       "      <td>False</td>\n",
       "      <td>{'id': 10194, 'name': 'Toy Story Collection', ...</td>\n",
       "      <td>30000000</td>\n",
       "      <td>[{'id': 16, 'name': 'Animation'}, {'id': 35, '...</td>\n",
       "      <td>http://toystory.disney.com/toy-story</td>\n",
       "      <td>862</td>\n",
       "      <td>tt0114709</td>\n",
       "      <td>en</td>\n",
       "      <td>Toy Story</td>\n",
       "      <td>Led by Woody, Andy's toys live happily in his ...</td>\n",
       "      <td>...</td>\n",
       "      <td>1995-10-30</td>\n",
       "      <td>373554033.0</td>\n",
       "      <td>81.0</td>\n",
       "      <td>[{'iso_639_1': 'en', 'name': 'English'}]</td>\n",
       "      <td>Released</td>\n",
       "      <td>NaN</td>\n",
       "      <td>Toy Story</td>\n",
       "      <td>False</td>\n",
       "      <td>7.7</td>\n",
       "      <td>5415.0</td>\n",
       "    </tr>\n",
       "    <tr>\n",
       "      <th>1</th>\n",
       "      <td>False</td>\n",
       "      <td>NaN</td>\n",
       "      <td>65000000</td>\n",
       "      <td>[{'id': 12, 'name': 'Adventure'}, {'id': 14, '...</td>\n",
       "      <td>NaN</td>\n",
       "      <td>8844</td>\n",
       "      <td>tt0113497</td>\n",
       "      <td>en</td>\n",
       "      <td>Jumanji</td>\n",
       "      <td>When siblings Judy and Peter discover an encha...</td>\n",
       "      <td>...</td>\n",
       "      <td>1995-12-15</td>\n",
       "      <td>262797249.0</td>\n",
       "      <td>104.0</td>\n",
       "      <td>[{'iso_639_1': 'en', 'name': 'English'}, {'iso...</td>\n",
       "      <td>Released</td>\n",
       "      <td>Roll the dice and unleash the excitement!</td>\n",
       "      <td>Jumanji</td>\n",
       "      <td>False</td>\n",
       "      <td>6.9</td>\n",
       "      <td>2413.0</td>\n",
       "    </tr>\n",
       "    <tr>\n",
       "      <th>2</th>\n",
       "      <td>False</td>\n",
       "      <td>{'id': 119050, 'name': 'Grumpy Old Men Collect...</td>\n",
       "      <td>0</td>\n",
       "      <td>[{'id': 10749, 'name': 'Romance'}, {'id': 35, ...</td>\n",
       "      <td>NaN</td>\n",
       "      <td>15602</td>\n",
       "      <td>tt0113228</td>\n",
       "      <td>en</td>\n",
       "      <td>Grumpier Old Men</td>\n",
       "      <td>A family wedding reignites the ancient feud be...</td>\n",
       "      <td>...</td>\n",
       "      <td>1995-12-22</td>\n",
       "      <td>0.0</td>\n",
       "      <td>101.0</td>\n",
       "      <td>[{'iso_639_1': 'en', 'name': 'English'}]</td>\n",
       "      <td>Released</td>\n",
       "      <td>Still Yelling. Still Fighting. Still Ready for...</td>\n",
       "      <td>Grumpier Old Men</td>\n",
       "      <td>False</td>\n",
       "      <td>6.5</td>\n",
       "      <td>92.0</td>\n",
       "    </tr>\n",
       "    <tr>\n",
       "      <th>3</th>\n",
       "      <td>False</td>\n",
       "      <td>NaN</td>\n",
       "      <td>16000000</td>\n",
       "      <td>[{'id': 35, 'name': 'Comedy'}, {'id': 18, 'nam...</td>\n",
       "      <td>NaN</td>\n",
       "      <td>31357</td>\n",
       "      <td>tt0114885</td>\n",
       "      <td>en</td>\n",
       "      <td>Waiting to Exhale</td>\n",
       "      <td>Cheated on, mistreated and stepped on, the wom...</td>\n",
       "      <td>...</td>\n",
       "      <td>1995-12-22</td>\n",
       "      <td>81452156.0</td>\n",
       "      <td>127.0</td>\n",
       "      <td>[{'iso_639_1': 'en', 'name': 'English'}]</td>\n",
       "      <td>Released</td>\n",
       "      <td>Friends are the people who let you be yourself...</td>\n",
       "      <td>Waiting to Exhale</td>\n",
       "      <td>False</td>\n",
       "      <td>6.1</td>\n",
       "      <td>34.0</td>\n",
       "    </tr>\n",
       "    <tr>\n",
       "      <th>4</th>\n",
       "      <td>False</td>\n",
       "      <td>{'id': 96871, 'name': 'Father of the Bride Col...</td>\n",
       "      <td>0</td>\n",
       "      <td>[{'id': 35, 'name': 'Comedy'}]</td>\n",
       "      <td>NaN</td>\n",
       "      <td>11862</td>\n",
       "      <td>tt0113041</td>\n",
       "      <td>en</td>\n",
       "      <td>Father of the Bride Part II</td>\n",
       "      <td>Just when George Banks has recovered from his ...</td>\n",
       "      <td>...</td>\n",
       "      <td>1995-02-10</td>\n",
       "      <td>76578911.0</td>\n",
       "      <td>106.0</td>\n",
       "      <td>[{'iso_639_1': 'en', 'name': 'English'}]</td>\n",
       "      <td>Released</td>\n",
       "      <td>Just When His World Is Back To Normal... He's ...</td>\n",
       "      <td>Father of the Bride Part II</td>\n",
       "      <td>False</td>\n",
       "      <td>5.7</td>\n",
       "      <td>173.0</td>\n",
       "    </tr>\n",
       "  </tbody>\n",
       "</table>\n",
       "<p>5 rows × 24 columns</p>\n",
       "</div>"
      ],
      "text/plain": [
       "   adult                              belongs_to_collection    budget  \\\n",
       "0  False  {'id': 10194, 'name': 'Toy Story Collection', ...  30000000   \n",
       "1  False                                                NaN  65000000   \n",
       "2  False  {'id': 119050, 'name': 'Grumpy Old Men Collect...         0   \n",
       "3  False                                                NaN  16000000   \n",
       "4  False  {'id': 96871, 'name': 'Father of the Bride Col...         0   \n",
       "\n",
       "                                              genres  \\\n",
       "0  [{'id': 16, 'name': 'Animation'}, {'id': 35, '...   \n",
       "1  [{'id': 12, 'name': 'Adventure'}, {'id': 14, '...   \n",
       "2  [{'id': 10749, 'name': 'Romance'}, {'id': 35, ...   \n",
       "3  [{'id': 35, 'name': 'Comedy'}, {'id': 18, 'nam...   \n",
       "4                     [{'id': 35, 'name': 'Comedy'}]   \n",
       "\n",
       "                               homepage     id    imdb_id original_language  \\\n",
       "0  http://toystory.disney.com/toy-story    862  tt0114709                en   \n",
       "1                                   NaN   8844  tt0113497                en   \n",
       "2                                   NaN  15602  tt0113228                en   \n",
       "3                                   NaN  31357  tt0114885                en   \n",
       "4                                   NaN  11862  tt0113041                en   \n",
       "\n",
       "                original_title  \\\n",
       "0                    Toy Story   \n",
       "1                      Jumanji   \n",
       "2             Grumpier Old Men   \n",
       "3            Waiting to Exhale   \n",
       "4  Father of the Bride Part II   \n",
       "\n",
       "                                            overview  ... release_date  \\\n",
       "0  Led by Woody, Andy's toys live happily in his ...  ...   1995-10-30   \n",
       "1  When siblings Judy and Peter discover an encha...  ...   1995-12-15   \n",
       "2  A family wedding reignites the ancient feud be...  ...   1995-12-22   \n",
       "3  Cheated on, mistreated and stepped on, the wom...  ...   1995-12-22   \n",
       "4  Just when George Banks has recovered from his ...  ...   1995-02-10   \n",
       "\n",
       "       revenue runtime                                   spoken_languages  \\\n",
       "0  373554033.0    81.0           [{'iso_639_1': 'en', 'name': 'English'}]   \n",
       "1  262797249.0   104.0  [{'iso_639_1': 'en', 'name': 'English'}, {'iso...   \n",
       "2          0.0   101.0           [{'iso_639_1': 'en', 'name': 'English'}]   \n",
       "3   81452156.0   127.0           [{'iso_639_1': 'en', 'name': 'English'}]   \n",
       "4   76578911.0   106.0           [{'iso_639_1': 'en', 'name': 'English'}]   \n",
       "\n",
       "     status                                            tagline  \\\n",
       "0  Released                                                NaN   \n",
       "1  Released          Roll the dice and unleash the excitement!   \n",
       "2  Released  Still Yelling. Still Fighting. Still Ready for...   \n",
       "3  Released  Friends are the people who let you be yourself...   \n",
       "4  Released  Just When His World Is Back To Normal... He's ...   \n",
       "\n",
       "                         title  video vote_average vote_count  \n",
       "0                    Toy Story  False          7.7     5415.0  \n",
       "1                      Jumanji  False          6.9     2413.0  \n",
       "2             Grumpier Old Men  False          6.5       92.0  \n",
       "3            Waiting to Exhale  False          6.1       34.0  \n",
       "4  Father of the Bride Part II  False          5.7      173.0  \n",
       "\n",
       "[5 rows x 24 columns]"
      ]
     },
     "execution_count": 169,
     "metadata": {},
     "output_type": "execute_result"
    }
   ],
   "source": [
    "movies = pd.read_csv('/kaggle/input/the-movies-dataset/movies_metadata.csv')\n",
    "movies.head()"
   ]
  },
  {
   "cell_type": "code",
   "execution_count": 170,
   "metadata": {
    "execution": {
     "iopub.execute_input": "2025-08-20T13:48:38.433804Z",
     "iopub.status.busy": "2025-08-20T13:48:38.433557Z",
     "iopub.status.idle": "2025-08-20T13:48:38.487598Z",
     "shell.execute_reply": "2025-08-20T13:48:38.485883Z",
     "shell.execute_reply.started": "2025-08-20T13:48:38.433784Z"
    },
    "trusted": true
   },
   "outputs": [
    {
     "name": "stdout",
     "output_type": "stream",
     "text": [
      "<class 'pandas.core.frame.DataFrame'>\n",
      "RangeIndex: 45466 entries, 0 to 45465\n",
      "Data columns (total 24 columns):\n",
      " #   Column                 Non-Null Count  Dtype  \n",
      "---  ------                 --------------  -----  \n",
      " 0   adult                  45466 non-null  object \n",
      " 1   belongs_to_collection  4494 non-null   object \n",
      " 2   budget                 45466 non-null  object \n",
      " 3   genres                 45466 non-null  object \n",
      " 4   homepage               7782 non-null   object \n",
      " 5   id                     45466 non-null  object \n",
      " 6   imdb_id                45449 non-null  object \n",
      " 7   original_language      45455 non-null  object \n",
      " 8   original_title         45466 non-null  object \n",
      " 9   overview               44512 non-null  object \n",
      " 10  popularity             45461 non-null  object \n",
      " 11  poster_path            45080 non-null  object \n",
      " 12  production_companies   45463 non-null  object \n",
      " 13  production_countries   45463 non-null  object \n",
      " 14  release_date           45379 non-null  object \n",
      " 15  revenue                45460 non-null  float64\n",
      " 16  runtime                45203 non-null  float64\n",
      " 17  spoken_languages       45460 non-null  object \n",
      " 18  status                 45379 non-null  object \n",
      " 19  tagline                20412 non-null  object \n",
      " 20  title                  45460 non-null  object \n",
      " 21  video                  45460 non-null  object \n",
      " 22  vote_average           45460 non-null  float64\n",
      " 23  vote_count             45460 non-null  float64\n",
      "dtypes: float64(4), object(20)\n",
      "memory usage: 8.3+ MB\n"
     ]
    }
   ],
   "source": [
    "movies.info()"
   ]
  },
  {
   "cell_type": "code",
   "execution_count": 171,
   "metadata": {
    "execution": {
     "iopub.execute_input": "2025-08-20T13:48:38.489432Z",
     "iopub.status.busy": "2025-08-20T13:48:38.489024Z",
     "iopub.status.idle": "2025-08-20T13:48:38.558483Z",
     "shell.execute_reply": "2025-08-20T13:48:38.557207Z",
     "shell.execute_reply.started": "2025-08-20T13:48:38.489403Z"
    },
    "trusted": true
   },
   "outputs": [
    {
     "data": {
      "text/plain": [
       "adult                        0\n",
       "belongs_to_collection    40972\n",
       "budget                       0\n",
       "genres                       0\n",
       "homepage                 37684\n",
       "id                           0\n",
       "imdb_id                     17\n",
       "original_language           11\n",
       "original_title               0\n",
       "overview                   954\n",
       "popularity                   5\n",
       "poster_path                386\n",
       "production_companies         3\n",
       "production_countries         3\n",
       "release_date                87\n",
       "revenue                      6\n",
       "runtime                    263\n",
       "spoken_languages             6\n",
       "status                      87\n",
       "tagline                  25054\n",
       "title                        6\n",
       "video                        6\n",
       "vote_average                 6\n",
       "vote_count                   6\n",
       "dtype: int64"
      ]
     },
     "execution_count": 171,
     "metadata": {},
     "output_type": "execute_result"
    }
   ],
   "source": [
    "movies.isna().sum()"
   ]
  },
  {
   "cell_type": "code",
   "execution_count": 172,
   "metadata": {
    "execution": {
     "iopub.execute_input": "2025-08-20T13:48:38.560492Z",
     "iopub.status.busy": "2025-08-20T13:48:38.560201Z",
     "iopub.status.idle": "2025-08-20T13:48:38.574982Z",
     "shell.execute_reply": "2025-08-20T13:48:38.573431Z",
     "shell.execute_reply.started": "2025-08-20T13:48:38.560467Z"
    },
    "trusted": true
   },
   "outputs": [],
   "source": [
    "def is_float(string):\n",
    "    try:\n",
    "        float(string)\n",
    "        return True\n",
    "    except ValueError:\n",
    "        return False"
   ]
  },
  {
   "cell_type": "code",
   "execution_count": 173,
   "metadata": {
    "execution": {
     "iopub.execute_input": "2025-08-20T13:48:38.576638Z",
     "iopub.status.busy": "2025-08-20T13:48:38.576299Z",
     "iopub.status.idle": "2025-08-20T13:48:39.257076Z",
     "shell.execute_reply": "2025-08-20T13:48:39.255704Z",
     "shell.execute_reply.started": "2025-08-20T13:48:38.576612Z"
    },
    "trusted": true
   },
   "outputs": [],
   "source": [
    "for i in range(movies.shape[0]):\n",
    "    if is_float(movies.loc[i, 'production_countries']) or is_float(movies.loc[i, 'production_companies']):\n",
    "        movies.drop(index=i, inplace=True)"
   ]
  },
  {
   "cell_type": "code",
   "execution_count": 174,
   "metadata": {
    "execution": {
     "iopub.execute_input": "2025-08-20T13:48:39.259152Z",
     "iopub.status.busy": "2025-08-20T13:48:39.258851Z",
     "iopub.status.idle": "2025-08-20T13:48:39.285745Z",
     "shell.execute_reply": "2025-08-20T13:48:39.284839Z",
     "shell.execute_reply.started": "2025-08-20T13:48:39.259126Z"
    },
    "trusted": true
   },
   "outputs": [],
   "source": [
    "movies.dropna(subset=['production_companies', 'production_countries'], inplace=True)"
   ]
  },
  {
   "cell_type": "code",
   "execution_count": 175,
   "metadata": {
    "execution": {
     "iopub.execute_input": "2025-08-20T13:48:39.286836Z",
     "iopub.status.busy": "2025-08-20T13:48:39.286555Z",
     "iopub.status.idle": "2025-08-20T13:48:39.380836Z",
     "shell.execute_reply": "2025-08-20T13:48:39.380025Z",
     "shell.execute_reply.started": "2025-08-20T13:48:39.286810Z"
    },
    "trusted": true
   },
   "outputs": [
    {
     "name": "stderr",
     "output_type": "stream",
     "text": [
      "/tmp/ipykernel_103/1184916427.py:1: FutureWarning: Downcasting object dtype arrays on .fillna, .ffill, .bfill is deprecated and will change in a future version. Call result.infer_objects(copy=False) instead. To opt-in to the future behavior, set `pd.set_option('future.no_silent_downcasting', True)`\n",
      "  movies = movies.fillna(\"NaN\")\n"
     ]
    }
   ],
   "source": [
    "movies = movies.fillna(\"NaN\")"
   ]
  },
  {
   "cell_type": "code",
   "execution_count": 176,
   "metadata": {
    "execution": {
     "iopub.execute_input": "2025-08-20T13:48:39.382630Z",
     "iopub.status.busy": "2025-08-20T13:48:39.382337Z",
     "iopub.status.idle": "2025-08-20T13:48:39.437184Z",
     "shell.execute_reply": "2025-08-20T13:48:39.435236Z",
     "shell.execute_reply.started": "2025-08-20T13:48:39.382602Z"
    },
    "trusted": true
   },
   "outputs": [
    {
     "data": {
      "text/plain": [
       "adult                    0\n",
       "belongs_to_collection    0\n",
       "budget                   0\n",
       "genres                   0\n",
       "homepage                 0\n",
       "id                       0\n",
       "imdb_id                  0\n",
       "original_language        0\n",
       "original_title           0\n",
       "overview                 0\n",
       "popularity               0\n",
       "poster_path              0\n",
       "production_companies     0\n",
       "production_countries     0\n",
       "release_date             0\n",
       "revenue                  0\n",
       "runtime                  0\n",
       "spoken_languages         0\n",
       "status                   0\n",
       "tagline                  0\n",
       "title                    0\n",
       "video                    0\n",
       "vote_average             0\n",
       "vote_count               0\n",
       "dtype: int64"
      ]
     },
     "execution_count": 176,
     "metadata": {},
     "output_type": "execute_result"
    }
   ],
   "source": [
    "movies.isna().sum()"
   ]
  },
  {
   "cell_type": "code",
   "execution_count": 177,
   "metadata": {
    "execution": {
     "iopub.execute_input": "2025-08-20T13:48:45.149762Z",
     "iopub.status.busy": "2025-08-20T13:48:45.149425Z",
     "iopub.status.idle": "2025-08-20T13:48:45.155567Z",
     "shell.execute_reply": "2025-08-20T13:48:45.154632Z",
     "shell.execute_reply.started": "2025-08-20T13:48:45.149740Z"
    },
    "trusted": true
   },
   "outputs": [],
   "source": [
    "def get_new_text(text, obj='name'):\n",
    "    if(text == 'NaN'):  \n",
    "         return np.nan\n",
    "    elif (isinstance(literal_eval(str(text)), float)):\n",
    "        return np.nan\n",
    "    else:\n",
    "        text = literal_eval(str(text))\n",
    "        for i in text:\n",
    "            if(i == obj):     \n",
    "                return (text[i])"
   ]
  },
  {
   "cell_type": "code",
   "execution_count": 178,
   "metadata": {
    "execution": {
     "iopub.execute_input": "2025-08-20T13:48:46.117917Z",
     "iopub.status.busy": "2025-08-20T13:48:46.117617Z",
     "iopub.status.idle": "2025-08-20T13:48:46.723786Z",
     "shell.execute_reply": "2025-08-20T13:48:46.722136Z",
     "shell.execute_reply.started": "2025-08-20T13:48:46.117899Z"
    },
    "trusted": true
   },
   "outputs": [],
   "source": [
    "movies['name_belongs_to_collection'] = movies['belongs_to_collection'].apply(get_new_text ,obj = \"name\")\n",
    "movies['id_belongs_to_collection'] = movies['belongs_to_collection'].apply(get_new_text ,obj = \"id\")\n",
    "movies['poster_path_belongs_to_collection'] = movies['belongs_to_collection'].apply(get_new_text ,obj = \"poster_path\")\n",
    "movies['backdrop_path_belongs_to_collection'] = movies['belongs_to_collection'].apply(get_new_text ,obj = \"backdrop_path\")"
   ]
  },
  {
   "cell_type": "code",
   "execution_count": 179,
   "metadata": {
    "execution": {
     "iopub.execute_input": "2025-08-20T13:48:49.699366Z",
     "iopub.status.busy": "2025-08-20T13:48:49.699018Z",
     "iopub.status.idle": "2025-08-20T13:48:49.704669Z",
     "shell.execute_reply": "2025-08-20T13:48:49.703735Z",
     "shell.execute_reply.started": "2025-08-20T13:48:49.699344Z"
    },
    "trusted": true
   },
   "outputs": [],
   "source": [
    "def get_text(text, obj='name'):\n",
    "    text = literal_eval(text)\n",
    "    if len(text) == 1:\n",
    "        for i in text:\n",
    "            return i[obj]\n",
    "    else:\n",
    "        s = []\n",
    "        for i in text: \n",
    "            s.append(str(i[obj]))\n",
    "        return s"
   ]
  },
  {
   "cell_type": "code",
   "execution_count": null,
   "metadata": {
    "execution": {
     "iopub.execute_input": "2025-08-20T13:48:55.237912Z",
     "iopub.status.busy": "2025-08-20T13:48:55.237578Z",
     "iopub.status.idle": "2025-08-20T13:48:59.177001Z",
     "shell.execute_reply": "2025-08-20T13:48:59.175943Z",
     "shell.execute_reply.started": "2025-08-20T13:48:55.237888Z"
    },
    "trusted": true
   },
   "outputs": [],
   "source": [
    "movies['genres'] = movies['genres'].apply(get_text ,obj = \"name\")\n",
    "movies['name_production_countries'] = movies['production_countries'].apply(get_text ,obj = \"name\")\n",
    "movies['name_production_companies'] = movies['production_companies'].apply(get_text ,obj = \"name\")"
   ]
  },
  {
   "cell_type": "code",
   "execution_count": null,
   "metadata": {},
   "outputs": [],
   "source": [
    "movies['genres'] = movies['genres'].apply(\n",
    "    lambda x: [str(i).lower().replace(\" \", \"\") for i in x] if isinstance(x, list) else []\n",
    ")"
   ]
  },
  {
   "cell_type": "code",
   "execution_count": 181,
   "metadata": {
    "execution": {
     "iopub.execute_input": "2025-08-20T13:48:59.178834Z",
     "iopub.status.busy": "2025-08-20T13:48:59.178599Z",
     "iopub.status.idle": "2025-08-20T13:48:59.204019Z",
     "shell.execute_reply": "2025-08-20T13:48:59.202598Z",
     "shell.execute_reply.started": "2025-08-20T13:48:59.178810Z"
    },
    "trusted": true
   },
   "outputs": [
    {
     "name": "stderr",
     "output_type": "stream",
     "text": [
      "/usr/local/lib/python3.11/dist-packages/pandas/io/formats/format.py:1458: RuntimeWarning: invalid value encountered in greater\n",
      "  has_large_values = (abs_vals > 1e6).any()\n",
      "/usr/local/lib/python3.11/dist-packages/pandas/io/formats/format.py:1459: RuntimeWarning: invalid value encountered in less\n",
      "  has_small_values = ((abs_vals < 10 ** (-self.digits)) & (abs_vals > 0)).any()\n",
      "/usr/local/lib/python3.11/dist-packages/pandas/io/formats/format.py:1459: RuntimeWarning: invalid value encountered in greater\n",
      "  has_small_values = ((abs_vals < 10 ** (-self.digits)) & (abs_vals > 0)).any()\n",
      "/usr/local/lib/python3.11/dist-packages/pandas/io/formats/format.py:1458: RuntimeWarning: invalid value encountered in greater\n",
      "  has_large_values = (abs_vals > 1e6).any()\n",
      "/usr/local/lib/python3.11/dist-packages/pandas/io/formats/format.py:1459: RuntimeWarning: invalid value encountered in less\n",
      "  has_small_values = ((abs_vals < 10 ** (-self.digits)) & (abs_vals > 0)).any()\n",
      "/usr/local/lib/python3.11/dist-packages/pandas/io/formats/format.py:1459: RuntimeWarning: invalid value encountered in greater\n",
      "  has_small_values = ((abs_vals < 10 ** (-self.digits)) & (abs_vals > 0)).any()\n"
     ]
    },
    {
     "data": {
      "text/html": [
       "<div>\n",
       "<style scoped>\n",
       "    .dataframe tbody tr th:only-of-type {\n",
       "        vertical-align: middle;\n",
       "    }\n",
       "\n",
       "    .dataframe tbody tr th {\n",
       "        vertical-align: top;\n",
       "    }\n",
       "\n",
       "    .dataframe thead th {\n",
       "        text-align: right;\n",
       "    }\n",
       "</style>\n",
       "<table border=\"1\" class=\"dataframe\">\n",
       "  <thead>\n",
       "    <tr style=\"text-align: right;\">\n",
       "      <th></th>\n",
       "      <th>adult</th>\n",
       "      <th>belongs_to_collection</th>\n",
       "      <th>budget</th>\n",
       "      <th>genres</th>\n",
       "      <th>homepage</th>\n",
       "      <th>id</th>\n",
       "      <th>imdb_id</th>\n",
       "      <th>original_language</th>\n",
       "      <th>original_title</th>\n",
       "      <th>overview</th>\n",
       "      <th>...</th>\n",
       "      <th>vote_average</th>\n",
       "      <th>vote_count</th>\n",
       "      <th>name_belongs_to_collection</th>\n",
       "      <th>id_belongs_to_collection</th>\n",
       "      <th>poster_path_belongs_to_collection</th>\n",
       "      <th>backdrop_path_belongs_to_collection</th>\n",
       "      <th>name_production_countries</th>\n",
       "      <th>iso_3166_1_production_companies</th>\n",
       "      <th>name_production_companies</th>\n",
       "      <th>id_production_companies</th>\n",
       "    </tr>\n",
       "  </thead>\n",
       "  <tbody>\n",
       "    <tr>\n",
       "      <th>0</th>\n",
       "      <td>False</td>\n",
       "      <td>{'id': 10194, 'name': 'Toy Story Collection', ...</td>\n",
       "      <td>30000000</td>\n",
       "      <td>[Animation, Comedy, Family]</td>\n",
       "      <td>http://toystory.disney.com/toy-story</td>\n",
       "      <td>862</td>\n",
       "      <td>tt0114709</td>\n",
       "      <td>en</td>\n",
       "      <td>Toy Story</td>\n",
       "      <td>Led by Woody, Andy's toys live happily in his ...</td>\n",
       "      <td>...</td>\n",
       "      <td>7.7</td>\n",
       "      <td>5415.0</td>\n",
       "      <td>Toy Story Collection</td>\n",
       "      <td>10194.0</td>\n",
       "      <td>/7G9915LfUQ2lVfwMEEhDsn3kT4B.jpg</td>\n",
       "      <td>/9FBwqcd9IRruEDUrTdcaafOMKUq.jpg</td>\n",
       "      <td>United States of America</td>\n",
       "      <td>US</td>\n",
       "      <td>Pixar Animation Studios</td>\n",
       "      <td>3</td>\n",
       "    </tr>\n",
       "    <tr>\n",
       "      <th>1</th>\n",
       "      <td>False</td>\n",
       "      <td>NaN</td>\n",
       "      <td>65000000</td>\n",
       "      <td>[Adventure, Fantasy, Family]</td>\n",
       "      <td>NaN</td>\n",
       "      <td>8844</td>\n",
       "      <td>tt0113497</td>\n",
       "      <td>en</td>\n",
       "      <td>Jumanji</td>\n",
       "      <td>When siblings Judy and Peter discover an encha...</td>\n",
       "      <td>...</td>\n",
       "      <td>6.9</td>\n",
       "      <td>2413.0</td>\n",
       "      <td>NaN</td>\n",
       "      <td>NaN</td>\n",
       "      <td>NaN</td>\n",
       "      <td>NaN</td>\n",
       "      <td>United States of America</td>\n",
       "      <td>US</td>\n",
       "      <td>[TriStar Pictures, Teitler Film, Interscope Co...</td>\n",
       "      <td>[559, 2550, 10201]</td>\n",
       "    </tr>\n",
       "    <tr>\n",
       "      <th>2</th>\n",
       "      <td>False</td>\n",
       "      <td>{'id': 119050, 'name': 'Grumpy Old Men Collect...</td>\n",
       "      <td>0</td>\n",
       "      <td>[Romance, Comedy]</td>\n",
       "      <td>NaN</td>\n",
       "      <td>15602</td>\n",
       "      <td>tt0113228</td>\n",
       "      <td>en</td>\n",
       "      <td>Grumpier Old Men</td>\n",
       "      <td>A family wedding reignites the ancient feud be...</td>\n",
       "      <td>...</td>\n",
       "      <td>6.5</td>\n",
       "      <td>92.0</td>\n",
       "      <td>Grumpy Old Men Collection</td>\n",
       "      <td>119050.0</td>\n",
       "      <td>/nLvUdqgPgm3F85NMCii9gVFUcet.jpg</td>\n",
       "      <td>/hypTnLot2z8wpFS7qwsQHW1uV8u.jpg</td>\n",
       "      <td>United States of America</td>\n",
       "      <td>US</td>\n",
       "      <td>[Warner Bros., Lancaster Gate]</td>\n",
       "      <td>[6194, 19464]</td>\n",
       "    </tr>\n",
       "    <tr>\n",
       "      <th>3</th>\n",
       "      <td>False</td>\n",
       "      <td>NaN</td>\n",
       "      <td>16000000</td>\n",
       "      <td>[Comedy, Drama, Romance]</td>\n",
       "      <td>NaN</td>\n",
       "      <td>31357</td>\n",
       "      <td>tt0114885</td>\n",
       "      <td>en</td>\n",
       "      <td>Waiting to Exhale</td>\n",
       "      <td>Cheated on, mistreated and stepped on, the wom...</td>\n",
       "      <td>...</td>\n",
       "      <td>6.1</td>\n",
       "      <td>34.0</td>\n",
       "      <td>NaN</td>\n",
       "      <td>NaN</td>\n",
       "      <td>NaN</td>\n",
       "      <td>NaN</td>\n",
       "      <td>United States of America</td>\n",
       "      <td>US</td>\n",
       "      <td>Twentieth Century Fox Film Corporation</td>\n",
       "      <td>306</td>\n",
       "    </tr>\n",
       "    <tr>\n",
       "      <th>4</th>\n",
       "      <td>False</td>\n",
       "      <td>{'id': 96871, 'name': 'Father of the Bride Col...</td>\n",
       "      <td>0</td>\n",
       "      <td>Comedy</td>\n",
       "      <td>NaN</td>\n",
       "      <td>11862</td>\n",
       "      <td>tt0113041</td>\n",
       "      <td>en</td>\n",
       "      <td>Father of the Bride Part II</td>\n",
       "      <td>Just when George Banks has recovered from his ...</td>\n",
       "      <td>...</td>\n",
       "      <td>5.7</td>\n",
       "      <td>173.0</td>\n",
       "      <td>Father of the Bride Collection</td>\n",
       "      <td>96871.0</td>\n",
       "      <td>/nts4iOmNnq7GNicycMJ9pSAn204.jpg</td>\n",
       "      <td>/7qwE57OVZmMJChBpLEbJEmzUydk.jpg</td>\n",
       "      <td>United States of America</td>\n",
       "      <td>US</td>\n",
       "      <td>[Sandollar Productions, Touchstone Pictures]</td>\n",
       "      <td>[5842, 9195]</td>\n",
       "    </tr>\n",
       "  </tbody>\n",
       "</table>\n",
       "<p>5 rows × 32 columns</p>\n",
       "</div>"
      ],
      "text/plain": [
       "   adult                              belongs_to_collection    budget  \\\n",
       "0  False  {'id': 10194, 'name': 'Toy Story Collection', ...  30000000   \n",
       "1  False                                                NaN  65000000   \n",
       "2  False  {'id': 119050, 'name': 'Grumpy Old Men Collect...         0   \n",
       "3  False                                                NaN  16000000   \n",
       "4  False  {'id': 96871, 'name': 'Father of the Bride Col...         0   \n",
       "\n",
       "                         genres                              homepage     id  \\\n",
       "0   [Animation, Comedy, Family]  http://toystory.disney.com/toy-story    862   \n",
       "1  [Adventure, Fantasy, Family]                                   NaN   8844   \n",
       "2             [Romance, Comedy]                                   NaN  15602   \n",
       "3      [Comedy, Drama, Romance]                                   NaN  31357   \n",
       "4                        Comedy                                   NaN  11862   \n",
       "\n",
       "     imdb_id original_language               original_title  \\\n",
       "0  tt0114709                en                    Toy Story   \n",
       "1  tt0113497                en                      Jumanji   \n",
       "2  tt0113228                en             Grumpier Old Men   \n",
       "3  tt0114885                en            Waiting to Exhale   \n",
       "4  tt0113041                en  Father of the Bride Part II   \n",
       "\n",
       "                                            overview  ... vote_average  \\\n",
       "0  Led by Woody, Andy's toys live happily in his ...  ...          7.7   \n",
       "1  When siblings Judy and Peter discover an encha...  ...          6.9   \n",
       "2  A family wedding reignites the ancient feud be...  ...          6.5   \n",
       "3  Cheated on, mistreated and stepped on, the wom...  ...          6.1   \n",
       "4  Just when George Banks has recovered from his ...  ...          5.7   \n",
       "\n",
       "  vote_count      name_belongs_to_collection id_belongs_to_collection  \\\n",
       "0     5415.0            Toy Story Collection                  10194.0   \n",
       "1     2413.0                             NaN                      NaN   \n",
       "2       92.0       Grumpy Old Men Collection                 119050.0   \n",
       "3       34.0                             NaN                      NaN   \n",
       "4      173.0  Father of the Bride Collection                  96871.0   \n",
       "\n",
       "  poster_path_belongs_to_collection  backdrop_path_belongs_to_collection  \\\n",
       "0  /7G9915LfUQ2lVfwMEEhDsn3kT4B.jpg     /9FBwqcd9IRruEDUrTdcaafOMKUq.jpg   \n",
       "1                               NaN                                  NaN   \n",
       "2  /nLvUdqgPgm3F85NMCii9gVFUcet.jpg     /hypTnLot2z8wpFS7qwsQHW1uV8u.jpg   \n",
       "3                               NaN                                  NaN   \n",
       "4  /nts4iOmNnq7GNicycMJ9pSAn204.jpg     /7qwE57OVZmMJChBpLEbJEmzUydk.jpg   \n",
       "\n",
       "  name_production_countries iso_3166_1_production_companies  \\\n",
       "0  United States of America                              US   \n",
       "1  United States of America                              US   \n",
       "2  United States of America                              US   \n",
       "3  United States of America                              US   \n",
       "4  United States of America                              US   \n",
       "\n",
       "                           name_production_companies id_production_companies  \n",
       "0                            Pixar Animation Studios                       3  \n",
       "1  [TriStar Pictures, Teitler Film, Interscope Co...      [559, 2550, 10201]  \n",
       "2                     [Warner Bros., Lancaster Gate]           [6194, 19464]  \n",
       "3             Twentieth Century Fox Film Corporation                     306  \n",
       "4       [Sandollar Productions, Touchstone Pictures]            [5842, 9195]  \n",
       "\n",
       "[5 rows x 32 columns]"
      ]
     },
     "execution_count": 181,
     "metadata": {},
     "output_type": "execute_result"
    }
   ],
   "source": [
    "movies.head()"
   ]
  },
  {
   "cell_type": "code",
   "execution_count": 182,
   "metadata": {
    "execution": {
     "iopub.execute_input": "2025-08-20T13:49:14.165842Z",
     "iopub.status.busy": "2025-08-20T13:49:14.165492Z",
     "iopub.status.idle": "2025-08-20T13:49:14.900259Z",
     "shell.execute_reply": "2025-08-20T13:49:14.898598Z",
     "shell.execute_reply.started": "2025-08-20T13:49:14.165815Z"
    },
    "trusted": true
   },
   "outputs": [
    {
     "ename": "AttributeError",
     "evalue": "module 'matplotlib' has no attribute 'show'",
     "output_type": "error",
     "traceback": [
      "\u001b[0;31m---------------------------------------------------------------------------\u001b[0m",
      "\u001b[0;31mAttributeError\u001b[0m                            Traceback (most recent call last)",
      "\u001b[0;32m/tmp/ipykernel_103/3886647765.py\u001b[0m in \u001b[0;36m<cell line: 0>\u001b[0;34m()\u001b[0m\n\u001b[1;32m      1\u001b[0m \u001b[0mmovies\u001b[0m\u001b[0;34m.\u001b[0m\u001b[0mhist\u001b[0m\u001b[0;34m(\u001b[0m\u001b[0mbins\u001b[0m\u001b[0;34m=\u001b[0m\u001b[0;36m50\u001b[0m\u001b[0;34m,\u001b[0m \u001b[0mfigsize\u001b[0m\u001b[0;34m=\u001b[0m\u001b[0;34m(\u001b[0m\u001b[0;36m10\u001b[0m\u001b[0;34m,\u001b[0m \u001b[0;36m7\u001b[0m\u001b[0;34m)\u001b[0m\u001b[0;34m)\u001b[0m\u001b[0;34m\u001b[0m\u001b[0;34m\u001b[0m\u001b[0m\n\u001b[0;32m----> 2\u001b[0;31m \u001b[0mplt\u001b[0m\u001b[0;34m.\u001b[0m\u001b[0mshow\u001b[0m\u001b[0;34m(\u001b[0m\u001b[0;34m)\u001b[0m\u001b[0;34m\u001b[0m\u001b[0;34m\u001b[0m\u001b[0m\n\u001b[0m",
      "\u001b[0;32m/usr/local/lib/python3.11/dist-packages/matplotlib/_api/__init__.py\u001b[0m in \u001b[0;36m__getattr__\u001b[0;34m(name)\u001b[0m\n\u001b[1;32m    224\u001b[0m         \u001b[0;32mif\u001b[0m \u001b[0mname\u001b[0m \u001b[0;32min\u001b[0m \u001b[0mprops\u001b[0m\u001b[0;34m:\u001b[0m\u001b[0;34m\u001b[0m\u001b[0;34m\u001b[0m\u001b[0m\n\u001b[1;32m    225\u001b[0m             \u001b[0;32mreturn\u001b[0m \u001b[0mprops\u001b[0m\u001b[0;34m[\u001b[0m\u001b[0mname\u001b[0m\u001b[0;34m]\u001b[0m\u001b[0;34m.\u001b[0m\u001b[0m__get__\u001b[0m\u001b[0;34m(\u001b[0m\u001b[0minstance\u001b[0m\u001b[0;34m)\u001b[0m\u001b[0;34m\u001b[0m\u001b[0;34m\u001b[0m\u001b[0m\n\u001b[0;32m--> 226\u001b[0;31m         raise AttributeError(\n\u001b[0m\u001b[1;32m    227\u001b[0m             f\"module {cls.__module__!r} has no attribute {name!r}\")\n\u001b[1;32m    228\u001b[0m \u001b[0;34m\u001b[0m\u001b[0m\n",
      "\u001b[0;31mAttributeError\u001b[0m: module 'matplotlib' has no attribute 'show'"
     ]
    },
    {
     "data": {
      "image/png": "[encoded data removed]",
      "text/plain": [
       "<Figure size 1000x700 with 4 Axes>"
      ]
     },
     "metadata": {},
     "output_type": "display_data"
    }
   ],
   "source": [
    "movies.hist(bins=50, figsize=(10, 7))\n",
    "plt.show()"
   ]
  },
  {
   "cell_type": "code",
   "execution_count": null,
   "metadata": {
    "execution": {
     "iopub.execute_input": "2025-08-20T13:49:28.273964Z",
     "iopub.status.busy": "2025-08-20T13:49:28.272869Z",
     "iopub.status.idle": "2025-08-20T13:49:29.305910Z",
     "shell.execute_reply": "2025-08-20T13:49:29.304644Z",
     "shell.execute_reply.started": "2025-08-20T13:49:28.273909Z"
    },
    "trusted": true
   },
   "outputs": [],
   "source": [
    "newMovies = movies.drop([\"belongs_to_collection\"] ,axis=1)\n",
    "newMovies.to_csv('NewMoviesMetadata.csv', index=False)"
   ]
  }
 ],
 "metadata": {
  "kaggle": {
   "accelerator": "none",
   "dataSources": [
    {
     "datasetId": 3405,
     "sourceId": 6663,
     "sourceType": "datasetVersion"
    }
   ],
   "dockerImageVersionId": 31089,
   "isGpuEnabled": false,
   "isInternetEnabled": true,
   "language": "python",
   "sourceType": "notebook"
  },
  "kernelspec": {
   "display_name": "Python 3",
   "language": "python",
   "name": "python3"
  },
  "language_info": {
   "codemirror_mode": {
    "name": "ipython",
    "version": 3
   },
   "file_extension": ".py",
   "mimetype": "text/x-python",
   "name": "python",
   "nbconvert_exporter": "python",
   "pygments_lexer": "ipython3",
   "version": "3.11.13"
  }
 },
 "nbformat": 4,
 "nbformat_minor": 4
}
